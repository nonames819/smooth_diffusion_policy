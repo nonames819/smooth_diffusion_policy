{
 "cells": [
  {
   "cell_type": "code",
   "execution_count": null,
   "metadata": {},
   "outputs": [
    {
     "name": "stdout",
     "output_type": "stream",
     "text": [
      "Keys in the HDF5 file:\n",
      "data\n"
     ]
    }
   ],
   "source": [
    "import os, sys, h5py\n",
    "import numpy as np\n",
    "\n",
    "hdf5_path = \"/root/projects/diffusion_policy/data/cs_data/stack/demo_src_stack_task_D0/demo.hdf5\"\n",
    "f = h5py.File(hdf5_path, 'r')\n",
    "print(\"Keys in the HDF5 file:\")\n",
    "for key in f.keys():\n",
    "    print(key)"
   ]
  },
  {
   "cell_type": "code",
   "execution_count": 2,
   "metadata": {},
   "outputs": [
    {
     "name": "stdout",
     "output_type": "stream",
     "text": [
      "actions:[[-0.09685559 -0.26412492 -0.07614617]\n",
      " [-0.17906143 -0.49955604 -0.14063916]\n",
      " [-0.24013064 -0.69201371 -0.18881627]\n",
      " [-0.28377969 -0.84519312 -0.22390855]\n",
      " [-0.31424663 -0.96343632 -0.24921833]\n",
      " [-0.34088101 -0.97823639 -0.30912521]\n",
      " [-0.28983406 -0.88075308 -0.24424475]\n",
      " [-0.28112522 -0.76279036 -0.31354621]\n",
      " [ 0.12134059 -0.42643813 -0.62676351]\n",
      " [ 0.35947235 -0.25825916 -0.5193912 ]]\n",
      "eef:[[-0.06631647  0.01709103  1.04430798]\n",
      " [-0.06709166  0.01557154  1.04369182]\n",
      " [-0.06892014  0.01190501  1.0422636 ]\n",
      " [-0.07161066  0.00628398  1.04018839]\n",
      " [-0.07495257 -0.00107605  1.03762985]\n",
      " [-0.0787766  -0.00999784  1.03471396]\n",
      " [-0.08248106 -0.02131827  1.03167612]\n",
      " [-0.0866079  -0.02951403  1.02826555]\n",
      " [-0.09248396 -0.04258312  1.02307904]\n",
      " [-0.09660594 -0.0528322   1.01490004]]\n",
      "world:[[-0.07115925  0.00388478  1.04050067]\n",
      " [-0.07604473 -0.00940626  1.03665986]\n",
      " [-0.08092667 -0.02269567  1.03282279]\n",
      " [-0.08579964 -0.03597568  1.02899296]\n",
      " [-0.09066491 -0.04924786  1.02516894]\n",
      " [-0.09582065 -0.05890966  1.0192577 ]\n",
      " [-0.09697276 -0.06535592  1.01946388]\n",
      " [-0.10066416 -0.06765355  1.01258824]\n",
      " [-0.08641693 -0.06390503  0.99174086]\n",
      " [-0.07863232 -0.06574516  0.98893048]]\n"
     ]
    }
   ],
   "source": [
    "from cnom_visualization import visualize_traj\n",
    "\n",
    "actions = f['/data/demo_1/actions'][:]\n",
    "pos_action = actions[:, :3]\n",
    "print(f\"actions:{pos_action[:10]}\")\n",
    "\n",
    "actions_from_eef = f[\"/data/demo_1/cs_info/eef_pose\"]\n",
    "pos_eef = actions_from_eef[:, :3, 3]\n",
    "print(f\"eef:{pos_eef[:10]}\")\n",
    "\n",
    "actions_from_world = f[\"/data/demo_1/cs_info/world_space_action\"]\n",
    "pos_world = actions_from_world[:, :3, 3]\n",
    "print(f\"world:{pos_world[:10]}\")"
   ]
  },
  {
   "cell_type": "code",
   "execution_count": 6,
   "metadata": {},
   "outputs": [
    {
     "name": "stdout",
     "output_type": "stream",
     "text": [
      "Distance between eef: 0.0018136719163334139\n",
      "Distance between world: 0.014672134230895334\n"
     ]
    }
   ],
   "source": [
    "dis1 = np.linalg.norm(pos_eef[0]-pos_eef[1])\n",
    "print(f\"Distance between eef: {dis1}\")\n",
    "\n",
    "dis2 = np.linalg.norm(pos_world[0]-pos_world[1])\n",
    "print(f\"Distance between world: {dis2}\")"
   ]
  }
 ],
 "metadata": {
  "kernelspec": {
   "display_name": "robodiff",
   "language": "python",
   "name": "python3"
  },
  "language_info": {
   "codemirror_mode": {
    "name": "ipython",
    "version": 3
   },
   "file_extension": ".py",
   "mimetype": "text/x-python",
   "name": "python",
   "nbconvert_exporter": "python",
   "pygments_lexer": "ipython3",
   "version": "3.9.15"
  }
 },
 "nbformat": 4,
 "nbformat_minor": 2
}
